{
 "cells": [
  {
   "cell_type": "code",
   "execution_count": 4,
   "metadata": {},
   "outputs": [],
   "source": [
    "import pandas as pd\n",
    "import numpy as np\n",
    "pd.options.display.max_rows=1000\n",
    "pd.options.display.max_columns=1000\n",
    "from multiprocessing import Pool\n",
    "import datetime"
   ]
  },
  {
   "cell_type": "code",
   "execution_count": 2,
   "metadata": {},
   "outputs": [],
   "source": [
    "train=pd.read_csv('../train.csv')\n",
    "test=pd.read_csv('../test_QyjYwdj.csv')\n",
    "item=pd.read_csv('../item_data.csv')\n",
    "transaction=pd.read_csv('../customer_transaction_data.csv')\n",
    "coupon_item_mapping=pd.read_csv('../coupon_item_mapping.csv')\n",
    "camp=pd.read_csv('../campaign_data.csv')\n",
    "camp.start_date=pd.to_datetime(camp.start_date,format='%d/%m/%y')\n",
    "camp.end_date=pd.to_datetime(camp.end_date,format='%d/%m/%y')\n",
    "camp.sort_values('start_date',inplace=True)\n",
    "df=pd.concat((train.iloc[:,:-1],test),axis=0)\n",
    "df=df.merge(camp,on='campaign_id',how='left')\n",
    "transaction.date=pd.to_datetime(transaction.date)"
   ]
  },
  {
   "cell_type": "code",
   "execution_count": 5,
   "metadata": {},
   "outputs": [
    {
     "name": "stderr",
     "output_type": "stream",
     "text": [
      "/home/ubuntu/anaconda3/lib/python3.7/site-packages/ipykernel_launcher.py:2: SettingWithCopyWarning: \n",
      "A value is trying to be set on a copy of a slice from a DataFrame.\n",
      "Try using .loc[row_indexer,col_indexer] = value instead\n",
      "\n",
      "See the caveats in the documentation: http://pandas.pydata.org/pandas-docs/stable/indexing.html#indexing-view-versus-copy\n",
      "  \n"
     ]
    }
   ],
   "source": [
    "temp=df[['customer_id','coupon_id','start_date','id','end_date']]\n",
    "temp['cut_off_date']=pd.to_datetime(df.start_date) -datetime.timedelta(150)"
   ]
  },
  {
   "cell_type": "code",
   "execution_count": 6,
   "metadata": {},
   "outputs": [],
   "source": [
    "transaction=transaction.drop_duplicates()"
   ]
  },
  {
   "cell_type": "code",
   "execution_count": 7,
   "metadata": {},
   "outputs": [
    {
     "data": {
      "text/html": [
       "<div>\n",
       "<style scoped>\n",
       "    .dataframe tbody tr th:only-of-type {\n",
       "        vertical-align: middle;\n",
       "    }\n",
       "\n",
       "    .dataframe tbody tr th {\n",
       "        vertical-align: top;\n",
       "    }\n",
       "\n",
       "    .dataframe thead th {\n",
       "        text-align: right;\n",
       "    }\n",
       "</style>\n",
       "<table border=\"1\" class=\"dataframe\">\n",
       "  <thead>\n",
       "    <tr style=\"text-align: right;\">\n",
       "      <th></th>\n",
       "      <th>date</th>\n",
       "      <th>customer_id</th>\n",
       "      <th>item_id</th>\n",
       "      <th>quantity</th>\n",
       "      <th>selling_price</th>\n",
       "      <th>other_discount</th>\n",
       "      <th>coupon_discount</th>\n",
       "    </tr>\n",
       "  </thead>\n",
       "  <tbody>\n",
       "    <tr>\n",
       "      <th>0</th>\n",
       "      <td>2012-01-02</td>\n",
       "      <td>1501</td>\n",
       "      <td>26830</td>\n",
       "      <td>1</td>\n",
       "      <td>35.26</td>\n",
       "      <td>-10.69</td>\n",
       "      <td>0.0</td>\n",
       "    </tr>\n",
       "    <tr>\n",
       "      <th>1</th>\n",
       "      <td>2012-01-02</td>\n",
       "      <td>1501</td>\n",
       "      <td>54253</td>\n",
       "      <td>1</td>\n",
       "      <td>53.43</td>\n",
       "      <td>-13.89</td>\n",
       "      <td>0.0</td>\n",
       "    </tr>\n",
       "    <tr>\n",
       "      <th>2</th>\n",
       "      <td>2012-01-02</td>\n",
       "      <td>1501</td>\n",
       "      <td>31962</td>\n",
       "      <td>1</td>\n",
       "      <td>106.50</td>\n",
       "      <td>-14.25</td>\n",
       "      <td>0.0</td>\n",
       "    </tr>\n",
       "    <tr>\n",
       "      <th>3</th>\n",
       "      <td>2012-01-02</td>\n",
       "      <td>1501</td>\n",
       "      <td>33647</td>\n",
       "      <td>1</td>\n",
       "      <td>67.32</td>\n",
       "      <td>0.00</td>\n",
       "      <td>0.0</td>\n",
       "    </tr>\n",
       "    <tr>\n",
       "      <th>4</th>\n",
       "      <td>2012-01-02</td>\n",
       "      <td>1501</td>\n",
       "      <td>48199</td>\n",
       "      <td>1</td>\n",
       "      <td>71.24</td>\n",
       "      <td>-28.14</td>\n",
       "      <td>0.0</td>\n",
       "    </tr>\n",
       "  </tbody>\n",
       "</table>\n",
       "</div>"
      ],
      "text/plain": [
       "        date  customer_id  item_id  quantity  selling_price  other_discount  \\\n",
       "0 2012-01-02         1501    26830         1          35.26          -10.69   \n",
       "1 2012-01-02         1501    54253         1          53.43          -13.89   \n",
       "2 2012-01-02         1501    31962         1         106.50          -14.25   \n",
       "3 2012-01-02         1501    33647         1          67.32            0.00   \n",
       "4 2012-01-02         1501    48199         1          71.24          -28.14   \n",
       "\n",
       "   coupon_discount  \n",
       "0              0.0  \n",
       "1              0.0  \n",
       "2              0.0  \n",
       "3              0.0  \n",
       "4              0.0  "
      ]
     },
     "execution_count": 7,
     "metadata": {},
     "output_type": "execute_result"
    }
   ],
   "source": [
    "transaction.head()"
   ]
  },
  {
   "cell_type": "code",
   "execution_count": 8,
   "metadata": {},
   "outputs": [],
   "source": [
    "def get_feat(row):\n",
    "    data_=row[1]\n",
    "    temp=transaction[(transaction.item_id.isin(coupon_item_mapping[coupon_item_mapping.coupon_id==data_['coupon_id']].item_id))\\\n",
    "               &(transaction.date<data_['start_date'])]    \n",
    "    \n",
    "    if temp.shape[0]>0:\n",
    "        a=temp['coupon_discount']/temp['selling_price']\n",
    "        feats=[data_.id]+[temp.shape[0],   sum(temp['coupon_discount']<0),  sum(temp['coupon_discount']<0)/temp.shape[0],\\\n",
    "                          temp['coupon_discount'].sum(),temp['selling_price'].sum(),\n",
    "                          \n",
    "                          temp['coupon_discount'].mean(),temp['selling_price'].mean(),temp['other_discount'].sum(),\\\n",
    "                          temp['other_discount'].mean(),a.mean(),a.sum() \n",
    "                         ]\n",
    "    else:\n",
    "        feats=[data_.id]+np.repeat(0,11).tolist()\n",
    "    return feats"
   ]
  },
  {
   "cell_type": "code",
   "execution_count": 9,
   "metadata": {},
   "outputs": [
    {
     "name": "stdout",
     "output_type": "stream",
     "text": [
      "CPU times: user 20.4 s, sys: 572 ms, total: 21 s\n",
      "Wall time: 11min 29s\n"
     ]
    }
   ],
   "source": [
    "%%time\n",
    "try:\n",
    "    pool = Pool(16) \n",
    "    data_outputs = pool.map(get_feat, temp.iterrows())\n",
    "finally: \n",
    "    pool.close()\n",
    "    pool.join()"
   ]
  },
  {
   "cell_type": "code",
   "execution_count": 10,
   "metadata": {},
   "outputs": [],
   "source": [
    "cols=['id','num_bought_coup','num_discount_availed_coup','frac_discount_availed_coup','sum_discount_coup',\n",
    "'selling_price_sum_coup',\n",
    "'coupon_discount_mean_coup','selling_price_mean_coup','other_discount_sum_coup',\n",
    "      'other_discount_mean_coup','cd_sp_ratio_mean_coup','cd_sp_ratio_sum_coup'\n",
    "     ]\n",
    "# cols=['id','num_bought_coup_end_date','num_discount_availed_coup_end_date','frac_discount_availed_coup_end_date',\n",
    "#       'sum_discount_coup_end_date','selling_price_sum_coup_end_date']\n",
    "feat_df=pd.DataFrame(np.row_stack(data_outputs),columns=cols)"
   ]
  },
  {
   "cell_type": "code",
   "execution_count": 11,
   "metadata": {},
   "outputs": [
    {
     "data": {
      "text/html": [
       "<div>\n",
       "<style scoped>\n",
       "    .dataframe tbody tr th:only-of-type {\n",
       "        vertical-align: middle;\n",
       "    }\n",
       "\n",
       "    .dataframe tbody tr th {\n",
       "        vertical-align: top;\n",
       "    }\n",
       "\n",
       "    .dataframe thead th {\n",
       "        text-align: right;\n",
       "    }\n",
       "</style>\n",
       "<table border=\"1\" class=\"dataframe\">\n",
       "  <thead>\n",
       "    <tr style=\"text-align: right;\">\n",
       "      <th></th>\n",
       "      <th>id</th>\n",
       "      <th>num_bought_coup</th>\n",
       "      <th>num_discount_availed_coup</th>\n",
       "      <th>frac_discount_availed_coup</th>\n",
       "      <th>sum_discount_coup</th>\n",
       "      <th>selling_price_sum_coup</th>\n",
       "      <th>coupon_discount_mean_coup</th>\n",
       "      <th>selling_price_mean_coup</th>\n",
       "      <th>other_discount_sum_coup</th>\n",
       "      <th>other_discount_mean_coup</th>\n",
       "      <th>cd_sp_ratio_mean_coup</th>\n",
       "      <th>cd_sp_ratio_sum_coup</th>\n",
       "    </tr>\n",
       "  </thead>\n",
       "  <tbody>\n",
       "    <tr>\n",
       "      <th>0</th>\n",
       "      <td>1.0</td>\n",
       "      <td>3309.0</td>\n",
       "      <td>158.0</td>\n",
       "      <td>0.047749</td>\n",
       "      <td>-4662.46</td>\n",
       "      <td>286278.21</td>\n",
       "      <td>-1.409024</td>\n",
       "      <td>86.515023</td>\n",
       "      <td>-207715.95</td>\n",
       "      <td>-62.773028</td>\n",
       "      <td>-0.020780</td>\n",
       "      <td>-68.762572</td>\n",
       "    </tr>\n",
       "    <tr>\n",
       "      <th>1</th>\n",
       "      <td>2.0</td>\n",
       "      <td>66.0</td>\n",
       "      <td>0.0</td>\n",
       "      <td>0.000000</td>\n",
       "      <td>0.00</td>\n",
       "      <td>4717.27</td>\n",
       "      <td>0.000000</td>\n",
       "      <td>71.473788</td>\n",
       "      <td>-677.15</td>\n",
       "      <td>-10.259848</td>\n",
       "      <td>0.000000</td>\n",
       "      <td>0.000000</td>\n",
       "    </tr>\n",
       "    <tr>\n",
       "      <th>2</th>\n",
       "      <td>6.0</td>\n",
       "      <td>99.0</td>\n",
       "      <td>13.0</td>\n",
       "      <td>0.131313</td>\n",
       "      <td>-463.06</td>\n",
       "      <td>32844.59</td>\n",
       "      <td>-4.677374</td>\n",
       "      <td>331.763535</td>\n",
       "      <td>-14974.90</td>\n",
       "      <td>-151.261616</td>\n",
       "      <td>-0.014480</td>\n",
       "      <td>-1.433481</td>\n",
       "    </tr>\n",
       "    <tr>\n",
       "      <th>3</th>\n",
       "      <td>7.0</td>\n",
       "      <td>38.0</td>\n",
       "      <td>1.0</td>\n",
       "      <td>0.026316</td>\n",
       "      <td>-17.81</td>\n",
       "      <td>4076.41</td>\n",
       "      <td>-0.468684</td>\n",
       "      <td>107.273947</td>\n",
       "      <td>-302.79</td>\n",
       "      <td>-7.968158</td>\n",
       "      <td>-0.006008</td>\n",
       "      <td>-0.228304</td>\n",
       "    </tr>\n",
       "    <tr>\n",
       "      <th>4</th>\n",
       "      <td>9.0</td>\n",
       "      <td>1060.0</td>\n",
       "      <td>12.0</td>\n",
       "      <td>0.011321</td>\n",
       "      <td>-231.53</td>\n",
       "      <td>202231.56</td>\n",
       "      <td>-0.218425</td>\n",
       "      <td>190.784491</td>\n",
       "      <td>-44172.62</td>\n",
       "      <td>-41.672283</td>\n",
       "      <td>-0.001419</td>\n",
       "      <td>-1.504496</td>\n",
       "    </tr>\n",
       "  </tbody>\n",
       "</table>\n",
       "</div>"
      ],
      "text/plain": [
       "    id  num_bought_coup  num_discount_availed_coup  \\\n",
       "0  1.0           3309.0                      158.0   \n",
       "1  2.0             66.0                        0.0   \n",
       "2  6.0             99.0                       13.0   \n",
       "3  7.0             38.0                        1.0   \n",
       "4  9.0           1060.0                       12.0   \n",
       "\n",
       "   frac_discount_availed_coup  sum_discount_coup  selling_price_sum_coup  \\\n",
       "0                    0.047749           -4662.46               286278.21   \n",
       "1                    0.000000               0.00                 4717.27   \n",
       "2                    0.131313            -463.06                32844.59   \n",
       "3                    0.026316             -17.81                 4076.41   \n",
       "4                    0.011321            -231.53               202231.56   \n",
       "\n",
       "   coupon_discount_mean_coup  selling_price_mean_coup  \\\n",
       "0                  -1.409024                86.515023   \n",
       "1                   0.000000                71.473788   \n",
       "2                  -4.677374               331.763535   \n",
       "3                  -0.468684               107.273947   \n",
       "4                  -0.218425               190.784491   \n",
       "\n",
       "   other_discount_sum_coup  other_discount_mean_coup  cd_sp_ratio_mean_coup  \\\n",
       "0               -207715.95                -62.773028              -0.020780   \n",
       "1                  -677.15                -10.259848               0.000000   \n",
       "2                -14974.90               -151.261616              -0.014480   \n",
       "3                  -302.79                 -7.968158              -0.006008   \n",
       "4                -44172.62                -41.672283              -0.001419   \n",
       "\n",
       "   cd_sp_ratio_sum_coup  \n",
       "0            -68.762572  \n",
       "1              0.000000  \n",
       "2             -1.433481  \n",
       "3             -0.228304  \n",
       "4             -1.504496  "
      ]
     },
     "execution_count": 11,
     "metadata": {},
     "output_type": "execute_result"
    }
   ],
   "source": [
    "feat_df.head()"
   ]
  },
  {
   "cell_type": "code",
   "execution_count": 12,
   "metadata": {},
   "outputs": [],
   "source": [
    "feat_df.to_csv('../coupon_item_feats_no_lag_v2.csv',index=False)"
   ]
  },
  {
   "cell_type": "code",
   "execution_count": 13,
   "metadata": {},
   "outputs": [],
   "source": [
    "def get_feat(row):\n",
    "    data_=row[1]\n",
    "#     temp=transaction[(transaction.customer_id==data_['customer_id'])&\\\n",
    "#                          (transaction.item_id.isin(coupon_item_mapping[coupon_item_mapping.coupon_id==data_['coupon_id']].item_id))\\\n",
    "#                &(transaction.date<data_['start_date'])]\n",
    "\n",
    "    temp=transaction[(transaction.customer_id==data_['customer_id'])&\\\n",
    "                         (transaction.item_id.isin(coupon_item_mapping[coupon_item_mapping.coupon_id==data_['coupon_id']].item_id))\\\n",
    "               &(transaction.date<data_['start_date'])]\n",
    "    \n",
    "    \n",
    "    if temp.shape[0]>0:\n",
    "        a=temp['coupon_discount']/temp['selling_price']\n",
    "        feats=[data_.id]+[temp.shape[0],   sum(temp['coupon_discount']<0),  sum(temp['coupon_discount']<0)/temp.shape[0],\\\n",
    "                          temp['coupon_discount'].sum(),temp['selling_price'].sum(),\n",
    "                          \n",
    "                          temp['coupon_discount'].mean(),temp['selling_price'].mean(),temp['other_discount'].sum(),\\\n",
    "                          temp['other_discount'].mean(),a.mean(),a.sum() \n",
    "                         ]\n",
    "    else:\n",
    "        feats=[data_.id]+np.repeat(0,11).tolist()\n",
    "    return feats"
   ]
  },
  {
   "cell_type": "code",
   "execution_count": 14,
   "metadata": {},
   "outputs": [],
   "source": [
    "# cols=['id','num_bought','num_discount_availed','frac_discount_availed','sum_discount','selling_price_sum']\n",
    "cols=['id','num_bought','num_discount_availed','frac_discount_availed','sum_discount',\n",
    "'selling_price_sum',\n",
    "'coupon_discount_mean','selling_price_mean','other_discount_sum',\n",
    "      'other_discount_mean','cd_sp_ratio_mean','cd_sp_ratio_sum'\n",
    "     ]"
   ]
  },
  {
   "cell_type": "code",
   "execution_count": 15,
   "metadata": {
    "scrolled": true
   },
   "outputs": [
    {
     "name": "stdout",
     "output_type": "stream",
     "text": [
      "CPU times: user 20.5 s, sys: 648 ms, total: 21.2 s\n",
      "Wall time: 11min 48s\n"
     ]
    }
   ],
   "source": [
    "%%time\n",
    "try:\n",
    "    pool = Pool(16) \n",
    "    data_outputs = pool.map(get_feat, temp.iterrows())\n",
    "finally: \n",
    "    pool.close()\n",
    "    pool.join()"
   ]
  },
  {
   "cell_type": "code",
   "execution_count": 16,
   "metadata": {},
   "outputs": [
    {
     "data": {
      "text/plain": [
       "128595"
      ]
     },
     "execution_count": 16,
     "metadata": {},
     "output_type": "execute_result"
    }
   ],
   "source": [
    "len(data_outputs)"
   ]
  },
  {
   "cell_type": "code",
   "execution_count": 17,
   "metadata": {
    "scrolled": true
   },
   "outputs": [],
   "source": [
    "feat_df=pd.DataFrame(np.row_stack(data_outputs),columns=cols)"
   ]
  },
  {
   "cell_type": "code",
   "execution_count": 18,
   "metadata": {},
   "outputs": [],
   "source": [
    "feat_df.to_csv('../feats_user_coup_item_no_lag_v2.csv',index=False)"
   ]
  },
  {
   "cell_type": "code",
   "execution_count": 19,
   "metadata": {},
   "outputs": [],
   "source": [
    "camp_cust=df.groupby(['campaign_id','customer_id'])['coupon_id'].unique().reset_index()"
   ]
  },
  {
   "cell_type": "code",
   "execution_count": 20,
   "metadata": {},
   "outputs": [],
   "source": [
    "camp_cust=camp_cust.merge(camp,on='campaign_id')"
   ]
  },
  {
   "cell_type": "code",
   "execution_count": 21,
   "metadata": {},
   "outputs": [
    {
     "name": "stdout",
     "output_type": "stream",
     "text": [
      "CPU times: user 1.12 s, sys: 276 ms, total: 1.39 s\n",
      "Wall time: 4min 29s\n"
     ]
    }
   ],
   "source": [
    "%%time\n",
    "def get_feat(row):\n",
    "    data_=row[1]\n",
    "    temp=transaction[(transaction.customer_id==data_['customer_id'])&\\\n",
    "                             (transaction.item_id.isin(coupon_item_mapping[coupon_item_mapping.coupon_id.isin(data_['coupon_id'])].item_id))\\\n",
    "                   &(transaction.date<data_['start_date'])]\n",
    "\n",
    "    if temp.shape[0]>0:\n",
    "        a=temp['coupon_discount']/temp['selling_price']\n",
    "        feats=[data_['campaign_id'],data_['customer_id']]+[temp.shape[0],   sum(temp['coupon_discount']<0),  sum(temp['coupon_discount']<0)/temp.shape[0],\\\n",
    "                          temp['coupon_discount'].sum(),temp['selling_price'].sum(),\n",
    "                          \n",
    "                          temp['coupon_discount'].mean(),temp['selling_price'].mean(),temp['other_discount'].sum(),\\\n",
    "                          temp['other_discount'].mean(),a.mean(),a.sum() \n",
    "                         ]\n",
    "    else:\n",
    "        feats=[data_['campaign_id'],data_['customer_id']]+np.repeat(0,11).tolist()\n",
    "\n",
    "    return feats\n",
    "try:\n",
    "    pool = Pool(16) \n",
    "    data_outputs = pool.map(get_feat, camp_cust.iterrows())\n",
    "finally: \n",
    "    pool.close()\n",
    "    pool.join()\n",
    "    \n",
    "cols=['campaign_id','customer_id','num_bought_camp_cust','num_discount_availed_camp_cust','frac_discount_availed_camp_cust','sum_discount_camp_cust',\n",
    "'selling_price_sum_camp_cust',\n",
    "'coupon_discount_mean_camp_cust','selling_price_mean_camp_cust','other_discount_sum_camp_cust',\n",
    "      'other_discount_mean_camp_cust','cd_sp_ratio_mean_camp_cust','cd_sp_ratio_sum_camp_cust'\n",
    "     ]\n",
    "\n",
    "camp_cust_hist=pd.DataFrame(np.row_stack(data_outputs),columns=cols)"
   ]
  },
  {
   "cell_type": "code",
   "execution_count": 22,
   "metadata": {},
   "outputs": [],
   "source": [
    "camp_cust_hist.to_csv('../camp_cust_feats_v2.csv',index=False)"
   ]
  },
  {
   "cell_type": "code",
   "execution_count": 23,
   "metadata": {},
   "outputs": [],
   "source": [
    "a=pd.read_csv('../feats_user_coup_item_no_lag_v2.csv')"
   ]
  },
  {
   "cell_type": "code",
   "execution_count": 24,
   "metadata": {},
   "outputs": [],
   "source": [
    "b=pd.read_csv('../../av_amex/feats_user_coup_item_no_lag_v2.csv')"
   ]
  }
 ],
 "metadata": {
  "kernelspec": {
   "display_name": "Python 3",
   "language": "python",
   "name": "python3"
  },
  "language_info": {
   "codemirror_mode": {
    "name": "ipython",
    "version": 3
   },
   "file_extension": ".py",
   "mimetype": "text/x-python",
   "name": "python",
   "nbconvert_exporter": "python",
   "pygments_lexer": "ipython3",
   "version": "3.7.3"
  }
 },
 "nbformat": 4,
 "nbformat_minor": 2
}
