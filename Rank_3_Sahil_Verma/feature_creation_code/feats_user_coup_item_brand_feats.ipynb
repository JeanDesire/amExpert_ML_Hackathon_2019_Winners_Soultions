{
 "cells": [
  {
   "cell_type": "code",
   "execution_count": 1,
   "metadata": {},
   "outputs": [],
   "source": [
    "import pandas as pd\n",
    "import numpy as np\n",
    "pd.options.display.max_rows=1000\n",
    "pd.options.display.max_columns=1000\n",
    "from multiprocessing import Pool"
   ]
  },
  {
   "cell_type": "code",
   "execution_count": 2,
   "metadata": {},
   "outputs": [],
   "source": [
    "train=pd.read_csv('../train.csv')\n",
    "test=pd.read_csv('../test_QyjYwdj.csv')\n",
    "item=pd.read_csv('../item_data.csv')\n",
    "transaction=pd.read_csv('../customer_transaction_data.csv')\n",
    "coupon=pd.read_csv('../coupon_item_mapping.csv')\n",
    "camp=pd.read_csv('../campaign_data.csv')\n",
    "camp.start_date=pd.to_datetime(camp.start_date,format='%d/%m/%y')\n",
    "camp.end_date=pd.to_datetime(camp.end_date,format='%d/%m/%y')\n",
    "camp.sort_values('start_date',inplace=True)\n",
    "df=pd.concat((train.iloc[:,:-1],test),axis=0)\n",
    "df=df.merge(camp,on='campaign_id',how='left')\n",
    "transaction.date=pd.to_datetime(transaction.date)"
   ]
  },
  {
   "cell_type": "code",
   "execution_count": 3,
   "metadata": {},
   "outputs": [
    {
     "data": {
      "text/html": [
       "<div>\n",
       "<style scoped>\n",
       "    .dataframe tbody tr th:only-of-type {\n",
       "        vertical-align: middle;\n",
       "    }\n",
       "\n",
       "    .dataframe tbody tr th {\n",
       "        vertical-align: top;\n",
       "    }\n",
       "\n",
       "    .dataframe thead th {\n",
       "        text-align: right;\n",
       "    }\n",
       "</style>\n",
       "<table border=\"1\" class=\"dataframe\">\n",
       "  <thead>\n",
       "    <tr style=\"text-align: right;\">\n",
       "      <th></th>\n",
       "      <th>id</th>\n",
       "      <th>campaign_id</th>\n",
       "      <th>coupon_id</th>\n",
       "      <th>customer_id</th>\n",
       "      <th>campaign_type</th>\n",
       "      <th>start_date</th>\n",
       "      <th>end_date</th>\n",
       "    </tr>\n",
       "  </thead>\n",
       "  <tbody>\n",
       "    <tr>\n",
       "      <th>0</th>\n",
       "      <td>1</td>\n",
       "      <td>13</td>\n",
       "      <td>27</td>\n",
       "      <td>1053</td>\n",
       "      <td>X</td>\n",
       "      <td>2013-05-19</td>\n",
       "      <td>2013-07-05</td>\n",
       "    </tr>\n",
       "    <tr>\n",
       "      <th>1</th>\n",
       "      <td>2</td>\n",
       "      <td>13</td>\n",
       "      <td>116</td>\n",
       "      <td>48</td>\n",
       "      <td>X</td>\n",
       "      <td>2013-05-19</td>\n",
       "      <td>2013-07-05</td>\n",
       "    </tr>\n",
       "    <tr>\n",
       "      <th>2</th>\n",
       "      <td>6</td>\n",
       "      <td>9</td>\n",
       "      <td>635</td>\n",
       "      <td>205</td>\n",
       "      <td>Y</td>\n",
       "      <td>2013-03-11</td>\n",
       "      <td>2013-04-12</td>\n",
       "    </tr>\n",
       "    <tr>\n",
       "      <th>3</th>\n",
       "      <td>7</td>\n",
       "      <td>13</td>\n",
       "      <td>644</td>\n",
       "      <td>1050</td>\n",
       "      <td>X</td>\n",
       "      <td>2013-05-19</td>\n",
       "      <td>2013-07-05</td>\n",
       "    </tr>\n",
       "    <tr>\n",
       "      <th>4</th>\n",
       "      <td>9</td>\n",
       "      <td>8</td>\n",
       "      <td>1017</td>\n",
       "      <td>1489</td>\n",
       "      <td>X</td>\n",
       "      <td>2013-02-16</td>\n",
       "      <td>2013-04-05</td>\n",
       "    </tr>\n",
       "  </tbody>\n",
       "</table>\n",
       "</div>"
      ],
      "text/plain": [
       "   id  campaign_id  coupon_id  customer_id campaign_type start_date   end_date\n",
       "0   1           13         27         1053             X 2013-05-19 2013-07-05\n",
       "1   2           13        116           48             X 2013-05-19 2013-07-05\n",
       "2   6            9        635          205             Y 2013-03-11 2013-04-12\n",
       "3   7           13        644         1050             X 2013-05-19 2013-07-05\n",
       "4   9            8       1017         1489             X 2013-02-16 2013-04-05"
      ]
     },
     "execution_count": 3,
     "metadata": {},
     "output_type": "execute_result"
    }
   ],
   "source": [
    "df.head()"
   ]
  },
  {
   "cell_type": "code",
   "execution_count": 4,
   "metadata": {},
   "outputs": [],
   "source": [
    "coupon_list=df.coupon_id.unique()"
   ]
  },
  {
   "cell_type": "code",
   "execution_count": 5,
   "metadata": {},
   "outputs": [],
   "source": [
    "def get_similar_coupon_mean(c):\n",
    "    coups=coupon[coupon.item_id.isin(coupon[coupon.coupon_id==c].item_id)].coupon_id.unique()\n",
    "    coups=coups[np.where(coups!=c)[0]]\n",
    "    return c,train[train.coupon_id.isin(coups)].redemption_status.sum(),train[train.coupon_id.isin(coups)].redemption_status.mean()"
   ]
  },
  {
   "cell_type": "code",
   "execution_count": 6,
   "metadata": {},
   "outputs": [
    {
     "name": "stdout",
     "output_type": "stream",
     "text": [
      "CPU times: user 24 ms, sys: 64 ms, total: 88 ms\n",
      "Wall time: 694 ms\n"
     ]
    }
   ],
   "source": [
    "%%time\n",
    "cols=['coupon_id','tot_redemption','mean_redemption']\n",
    "try:\n",
    "    pool = Pool(16) \n",
    "    data_outputs = pool.map(get_similar_coupon_mean, [coup for coup in coupon_list])\n",
    "finally: \n",
    "    pool.close()\n",
    "    pool.join()"
   ]
  },
  {
   "cell_type": "code",
   "execution_count": 7,
   "metadata": {},
   "outputs": [],
   "source": [
    "pd.DataFrame(data_outputs,columns=cols).to_csv('../coupon_mean_encoding_v2.csv',index=False)"
   ]
  },
  {
   "cell_type": "code",
   "execution_count": 8,
   "metadata": {},
   "outputs": [],
   "source": [
    "transaction=transaction.merge(item,on='item_id')"
   ]
  },
  {
   "cell_type": "code",
   "execution_count": 9,
   "metadata": {},
   "outputs": [],
   "source": [
    "coupon=coupon.merge(item,on='item_id')"
   ]
  },
  {
   "cell_type": "code",
   "execution_count": 10,
   "metadata": {
    "scrolled": true
   },
   "outputs": [
    {
     "data": {
      "text/html": [
       "<div>\n",
       "<style scoped>\n",
       "    .dataframe tbody tr th:only-of-type {\n",
       "        vertical-align: middle;\n",
       "    }\n",
       "\n",
       "    .dataframe tbody tr th {\n",
       "        vertical-align: top;\n",
       "    }\n",
       "\n",
       "    .dataframe thead th {\n",
       "        text-align: right;\n",
       "    }\n",
       "</style>\n",
       "<table border=\"1\" class=\"dataframe\">\n",
       "  <thead>\n",
       "    <tr style=\"text-align: right;\">\n",
       "      <th></th>\n",
       "      <th>coupon_id</th>\n",
       "      <th>item_id</th>\n",
       "      <th>brand</th>\n",
       "      <th>brand_type</th>\n",
       "      <th>category</th>\n",
       "    </tr>\n",
       "  </thead>\n",
       "  <tbody>\n",
       "    <tr>\n",
       "      <th>0</th>\n",
       "      <td>105</td>\n",
       "      <td>37</td>\n",
       "      <td>56</td>\n",
       "      <td>Local</td>\n",
       "      <td>Grocery</td>\n",
       "    </tr>\n",
       "    <tr>\n",
       "      <th>1</th>\n",
       "      <td>6</td>\n",
       "      <td>37</td>\n",
       "      <td>56</td>\n",
       "      <td>Local</td>\n",
       "      <td>Grocery</td>\n",
       "    </tr>\n",
       "    <tr>\n",
       "      <th>2</th>\n",
       "      <td>22</td>\n",
       "      <td>37</td>\n",
       "      <td>56</td>\n",
       "      <td>Local</td>\n",
       "      <td>Grocery</td>\n",
       "    </tr>\n",
       "    <tr>\n",
       "      <th>3</th>\n",
       "      <td>31</td>\n",
       "      <td>37</td>\n",
       "      <td>56</td>\n",
       "      <td>Local</td>\n",
       "      <td>Grocery</td>\n",
       "    </tr>\n",
       "    <tr>\n",
       "      <th>4</th>\n",
       "      <td>107</td>\n",
       "      <td>75</td>\n",
       "      <td>56</td>\n",
       "      <td>Local</td>\n",
       "      <td>Grocery</td>\n",
       "    </tr>\n",
       "  </tbody>\n",
       "</table>\n",
       "</div>"
      ],
      "text/plain": [
       "   coupon_id  item_id  brand brand_type category\n",
       "0        105       37     56      Local  Grocery\n",
       "1          6       37     56      Local  Grocery\n",
       "2         22       37     56      Local  Grocery\n",
       "3         31       37     56      Local  Grocery\n",
       "4        107       75     56      Local  Grocery"
      ]
     },
     "execution_count": 10,
     "metadata": {},
     "output_type": "execute_result"
    }
   ],
   "source": [
    "coupon.head()"
   ]
  },
  {
   "cell_type": "code",
   "execution_count": 11,
   "metadata": {},
   "outputs": [],
   "source": [
    "def get_feat(row):\n",
    "    data_=row[1]\n",
    "    temp=transaction[(transaction.customer_id==data_['customer_id'])&\\\n",
    "                         (transaction.brand.isin(coupon[coupon.coupon_id==data_['coupon_id']].brand))\\\n",
    "               &(transaction.date<data_['start_date'])]\n",
    "    \n",
    "    if temp.shape[0]>0:\n",
    "        a=temp['coupon_discount']/temp['selling_price']\n",
    "        feats=[data_.id]+[temp.shape[0],   sum(temp['coupon_discount']<0),  sum(temp['coupon_discount']<0)/temp.shape[0],\\\n",
    "                          temp['coupon_discount'].sum(),temp['selling_price'].sum(),\n",
    "                          \n",
    "                          temp['coupon_discount'].mean(),temp['selling_price'].mean(),temp['other_discount'].sum(),\\\n",
    "                          temp['other_discount'].mean(),a.mean(),a.sum() \n",
    "                         ]\n",
    "    else:\n",
    "        feats=[data_.id]+np.repeat(0,11).tolist()\n",
    "    return feats"
   ]
  },
  {
   "cell_type": "code",
   "execution_count": 12,
   "metadata": {},
   "outputs": [
    {
     "name": "stderr",
     "output_type": "stream",
     "text": [
      "/home/ubuntu/anaconda3/lib/python3.7/site-packages/ipykernel_launcher.py:3: SettingWithCopyWarning: \n",
      "A value is trying to be set on a copy of a slice from a DataFrame.\n",
      "Try using .loc[row_indexer,col_indexer] = value instead\n",
      "\n",
      "See the caveats in the documentation: http://pandas.pydata.org/pandas-docs/stable/indexing.html#indexing-view-versus-copy\n",
      "  This is separate from the ipykernel package so we can avoid doing imports until\n"
     ]
    }
   ],
   "source": [
    "import datetime\n",
    "temp=df[['customer_id','coupon_id','start_date','id','end_date']]\n",
    "temp['cut_off_date']=pd.to_datetime(df.start_date) -datetime.timedelta(150)"
   ]
  },
  {
   "cell_type": "code",
   "execution_count": 13,
   "metadata": {},
   "outputs": [
    {
     "name": "stdout",
     "output_type": "stream",
     "text": [
      "CPU times: user 20.2 s, sys: 572 ms, total: 20.8 s\n",
      "Wall time: 12min 12s\n"
     ]
    }
   ],
   "source": [
    "%%time\n",
    "cols=['id','num_bought_brand_cust','num_discount_availed_brand_cust','frac_discount_availed_brand_cust','sum_discount_brand_cust',\n",
    "'selling_price_sum_brand_cust',\n",
    "'coupon_discount_mean_brand_cust','selling_price_mean_brand_cust','other_discount_sum_brand_cust',\n",
    "      'other_discount_mean_brand_cust','cd_sp_ratio_mean_brand_cust','cd_sp_ratio_sum_brand_cust'\n",
    "     ]\n",
    "\n",
    "try:\n",
    "    pool = Pool(16) \n",
    "    data_outputs = pool.map(get_feat, temp.iterrows())\n",
    "finally: \n",
    "    pool.close()\n",
    "    pool.join()"
   ]
  },
  {
   "cell_type": "code",
   "execution_count": 14,
   "metadata": {},
   "outputs": [],
   "source": [
    "feat_df=pd.DataFrame(np.row_stack(data_outputs),columns=cols)"
   ]
  },
  {
   "cell_type": "code",
   "execution_count": 15,
   "metadata": {},
   "outputs": [],
   "source": [
    "feat_df.to_csv('../brand_cust_feats_no_lag_v2.csv',index=False)"
   ]
  },
  {
   "cell_type": "code",
   "execution_count": 16,
   "metadata": {},
   "outputs": [],
   "source": [
    "def get_feat(row):\n",
    "    data_=row[1]\n",
    "    temp=transaction[(transaction.brand.isin(coupon[coupon.coupon_id==data_['coupon_id']].brand))\\\n",
    "               &(transaction.date<data_['start_date'])]\n",
    "\n",
    "    if temp.shape[0]>0:\n",
    "        a=temp['coupon_discount']/temp['selling_price']\n",
    "        feats=[data_.id]+[temp.shape[0],   sum(temp['coupon_discount']<0),  sum(temp['coupon_discount']<0)/temp.shape[0],\\\n",
    "                          temp['coupon_discount'].sum(),temp['selling_price'].sum(),\n",
    "                          \n",
    "                          temp['coupon_discount'].mean(),temp['selling_price'].mean(),temp['other_discount'].sum(),\\\n",
    "                          temp['other_discount'].mean(),a.mean(),a.sum() \n",
    "                         ]\n",
    "    else:\n",
    "        feats=[data_.id]+np.repeat(0,11).tolist()\n",
    "    return feats"
   ]
  },
  {
   "cell_type": "code",
   "execution_count": 17,
   "metadata": {},
   "outputs": [
    {
     "name": "stdout",
     "output_type": "stream",
     "text": [
      "CPU times: user 20 s, sys: 772 ms, total: 20.7 s\n",
      "Wall time: 20min 50s\n"
     ]
    }
   ],
   "source": [
    "%%time\n",
    "# cols=['id','num_bought_brand','num_discount_availed_brand','frac_discount_availed_brand','sum_discount_brand']\n",
    "cols=['id','num_bought_brand','num_discount_availed_brand','frac_discount_availed_brand','sum_discount_brand',\n",
    "'selling_price_sum_brand',\n",
    "'coupon_discount_mean_brand','selling_price_mean_brand','other_discount_sum_brand',\n",
    "      'other_discount_mean_brand','cd_sp_ratio_mean_brand','cd_sp_ratio_sum_brand'\n",
    "     ]\n",
    "try:\n",
    "    pool = Pool(16) \n",
    "    data_outputs = pool.map(get_feat, temp.iterrows())\n",
    "finally: \n",
    "    pool.close()\n",
    "    pool.join()"
   ]
  },
  {
   "cell_type": "code",
   "execution_count": 18,
   "metadata": {},
   "outputs": [],
   "source": [
    "feat_df=pd.DataFrame(np.row_stack(data_outputs),columns=cols)\n",
    "feat_df.to_csv('../brand_feats_no_lag_v2.csv',index=False)"
   ]
  },
  {
   "cell_type": "code",
   "execution_count": 21,
   "metadata": {},
   "outputs": [],
   "source": [
    "# a=pd.read_csv('../brand_cust_feats_no_lag_v2.csv')\n",
    "# b=pd.read_csv('../../av_amex/brand_cust_feats_no_lag_v2.csv')\n",
    "# (a.mean()==b.mean()).value_counts()"
   ]
  }
 ],
 "metadata": {
  "kernelspec": {
   "display_name": "Python 3",
   "language": "python",
   "name": "python3"
  },
  "language_info": {
   "codemirror_mode": {
    "name": "ipython",
    "version": 3
   },
   "file_extension": ".py",
   "mimetype": "text/x-python",
   "name": "python",
   "nbconvert_exporter": "python",
   "pygments_lexer": "ipython3",
   "version": "3.7.3"
  }
 },
 "nbformat": 4,
 "nbformat_minor": 2
}
